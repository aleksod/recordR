{
 "metadata": {
  "orig_nbformat": 2,
  "kernelspec": {
   "name": "python3",
   "display_name": "Python 3",
   "language": "python"
  }
 },
 "nbformat": 4,
 "nbformat_minor": 2,
 "cells": [
  {
   "cell_type": "code",
   "execution_count": 24,
   "metadata": {},
   "outputs": [],
   "source": [
    "import pandas as pd"
   ]
  },
  {
   "cell_type": "code",
   "execution_count": 25,
   "metadata": {},
   "outputs": [],
   "source": [
    "df = pd.read_excel(\"Database.xlsx\", sheet_name=\"Верхотомская волость\")"
   ]
  },
  {
   "cell_type": "code",
   "execution_count": 26,
   "metadata": {},
   "outputs": [
    {
     "output_type": "execute_result",
     "data": {
      "text/plain": [
       "   Unnamed: 0 Рождение Unnamed: 2 Unnamed: 3  Обряд Unnamed: 5 Unnamed: 6  \\\n",
       "0         NaN     День      Месяц        Год  День2     Месяц3       Год4   \n",
       "1         NaN       28    октября       1842      1     января       1843   \n",
       "2         NaN      NaN        NaN        NaN      1     января       1843   \n",
       "3         NaN      NaN        NaN        NaN      1     января       1843   \n",
       "4         NaN      NaN        NaN        NaN      1     января       1843   \n",
       "\n",
       "          Место    Unnamed: 8                     Unnamed: 9  Персона  \\\n",
       "0       Волость         Место                    Род занятий      Имя   \n",
       "1     Кузнецкая      Ашмарино                            NaN  Дмитрий   \n",
       "2     Кузнецкая      Ашмарино           заводской крестьянин  Тимофей   \n",
       "3     Кузнецкая      Ашмарино              крестьянская жена    Марья   \n",
       "4  Верхотомская  Верхотомское  священник Вознесенской церкви    Павел   \n",
       "\n",
       "    Unnamed: 11 Unnamed: 12    Unnamed: 13 Unnamed: 14  Unnamed: 15  \\\n",
       "0      Отчество     Фамилия         Статус     Возраст  Комментарии   \n",
       "1    Тимофеевич       Попов  новорожденный         NaN          NaN   \n",
       "2  Амбросимович       Попов           отец         NaN          NaN   \n",
       "3    Васильевна      Попова           мать         NaN          NaN   \n",
       "4    Михайлович      Саввин    восприемник         NaN          NaN   \n",
       "\n",
       "        Unnamed: 16        Unnamed: 17 Unnamed: 18  \n",
       "0  порядковый номер  номер в документе         123  \n",
       "1                 1                NaN         NaN  \n",
       "2                 2                NaN         NaN  \n",
       "3                 3                NaN         NaN  \n",
       "4                 4                NaN         NaN  "
      ],
      "text/html": "<div>\n<style scoped>\n    .dataframe tbody tr th:only-of-type {\n        vertical-align: middle;\n    }\n\n    .dataframe tbody tr th {\n        vertical-align: top;\n    }\n\n    .dataframe thead th {\n        text-align: right;\n    }\n</style>\n<table border=\"1\" class=\"dataframe\">\n  <thead>\n    <tr style=\"text-align: right;\">\n      <th></th>\n      <th>Unnamed: 0</th>\n      <th>Рождение</th>\n      <th>Unnamed: 2</th>\n      <th>Unnamed: 3</th>\n      <th>Обряд</th>\n      <th>Unnamed: 5</th>\n      <th>Unnamed: 6</th>\n      <th>Место</th>\n      <th>Unnamed: 8</th>\n      <th>Unnamed: 9</th>\n      <th>Персона</th>\n      <th>Unnamed: 11</th>\n      <th>Unnamed: 12</th>\n      <th>Unnamed: 13</th>\n      <th>Unnamed: 14</th>\n      <th>Unnamed: 15</th>\n      <th>Unnamed: 16</th>\n      <th>Unnamed: 17</th>\n      <th>Unnamed: 18</th>\n    </tr>\n  </thead>\n  <tbody>\n    <tr>\n      <th>0</th>\n      <td>NaN</td>\n      <td>День</td>\n      <td>Месяц</td>\n      <td>Год</td>\n      <td>День2</td>\n      <td>Месяц3</td>\n      <td>Год4</td>\n      <td>Волость</td>\n      <td>Место</td>\n      <td>Род занятий</td>\n      <td>Имя</td>\n      <td>Отчество</td>\n      <td>Фамилия</td>\n      <td>Статус</td>\n      <td>Возраст</td>\n      <td>Комментарии</td>\n      <td>порядковый номер</td>\n      <td>номер в документе</td>\n      <td>123</td>\n    </tr>\n    <tr>\n      <th>1</th>\n      <td>NaN</td>\n      <td>28</td>\n      <td>октября</td>\n      <td>1842</td>\n      <td>1</td>\n      <td>января</td>\n      <td>1843</td>\n      <td>Кузнецкая</td>\n      <td>Ашмарино</td>\n      <td>NaN</td>\n      <td>Дмитрий</td>\n      <td>Тимофеевич</td>\n      <td>Попов</td>\n      <td>новорожденный</td>\n      <td>NaN</td>\n      <td>NaN</td>\n      <td>1</td>\n      <td>NaN</td>\n      <td>NaN</td>\n    </tr>\n    <tr>\n      <th>2</th>\n      <td>NaN</td>\n      <td>NaN</td>\n      <td>NaN</td>\n      <td>NaN</td>\n      <td>1</td>\n      <td>января</td>\n      <td>1843</td>\n      <td>Кузнецкая</td>\n      <td>Ашмарино</td>\n      <td>заводской крестьянин</td>\n      <td>Тимофей</td>\n      <td>Амбросимович</td>\n      <td>Попов</td>\n      <td>отец</td>\n      <td>NaN</td>\n      <td>NaN</td>\n      <td>2</td>\n      <td>NaN</td>\n      <td>NaN</td>\n    </tr>\n    <tr>\n      <th>3</th>\n      <td>NaN</td>\n      <td>NaN</td>\n      <td>NaN</td>\n      <td>NaN</td>\n      <td>1</td>\n      <td>января</td>\n      <td>1843</td>\n      <td>Кузнецкая</td>\n      <td>Ашмарино</td>\n      <td>крестьянская жена</td>\n      <td>Марья</td>\n      <td>Васильевна</td>\n      <td>Попова</td>\n      <td>мать</td>\n      <td>NaN</td>\n      <td>NaN</td>\n      <td>3</td>\n      <td>NaN</td>\n      <td>NaN</td>\n    </tr>\n    <tr>\n      <th>4</th>\n      <td>NaN</td>\n      <td>NaN</td>\n      <td>NaN</td>\n      <td>NaN</td>\n      <td>1</td>\n      <td>января</td>\n      <td>1843</td>\n      <td>Верхотомская</td>\n      <td>Верхотомское</td>\n      <td>священник Вознесенской церкви</td>\n      <td>Павел</td>\n      <td>Михайлович</td>\n      <td>Саввин</td>\n      <td>восприемник</td>\n      <td>NaN</td>\n      <td>NaN</td>\n      <td>4</td>\n      <td>NaN</td>\n      <td>NaN</td>\n    </tr>\n  </tbody>\n</table>\n</div>"
     },
     "metadata": {},
     "execution_count": 26
    }
   ],
   "source": [
    "df.head()"
   ]
  },
  {
   "cell_type": "code",
   "execution_count": null,
   "metadata": {},
   "outputs": [],
   "source": []
  },
  {
   "cell_type": "code",
   "execution_count": null,
   "metadata": {},
   "outputs": [],
   "source": []
  },
  {
   "cell_type": "code",
   "execution_count": null,
   "metadata": {},
   "outputs": [],
   "source": [
    "column_names = [\n",
    "    \"birth_day\",\n",
    "    \"birth_month\",\n",
    "    \"birth_year\",\n",
    "\n",
    "    \"rite_day\",\n",
    "    \"rite_month\",\n",
    "    \"rite_year\",\n",
    "\n",
    "    \"region\",\n",
    "    \"place\",\n",
    "\n",
    "    \"profession\",\n",
    "\n",
    "    \"first_name\",\n",
    "    \"middle_name\",\n",
    "    \"last_name\",\n",
    "\n",
    "    \"status\",\n",
    "    \"age\",\n",
    "    \"comment\",\n",
    "    \"number\",\n",
    "    \"number_in_doc\",\n",
    "]"
   ]
  }
 ]
}